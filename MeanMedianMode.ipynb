{
 "cells": [
  {
   "cell_type": "markdown",
   "metadata": {},
   "source": [
    "# Mean, Median, Mode, and introducing NumPy"
   ]
  },
  {
   "cell_type": "markdown",
   "metadata": {},
   "source": [
    "## Mean vs. Median"
   ]
  },
  {
   "cell_type": "markdown",
   "metadata": {},
   "source": [
    "Let's create some fake income data, centered around 27,000 with a normal distribution and standard deviation of 15,000, with 10,000 data points. (We'll discuss those terms more later, if you're not familiar with them.)\n",
    "\n",
    "Then, compute the mean (average) - it should be close to 27,000:"
   ]
  },
  {
   "cell_type": "code",
   "execution_count": 8,
   "metadata": {
    "collapsed": false
   },
   "outputs": [
    {
     "data": {
      "text/plain": [
       "26922.587716094309"
      ]
     },
     "execution_count": 8,
     "metadata": {},
     "output_type": "execute_result"
    }
   ],
   "source": [
    "import numpy as np\n",
    "\n",
    "incomes = np.random.normal(27000, 15000, 10000)\n",
    "np.mean(incomes)"
   ]
  },
  {
   "cell_type": "markdown",
   "metadata": {},
   "source": [
    "We can segment the income data into 50 buckets, and plot it as a histogram:"
   ]
  },
  {
   "cell_type": "code",
   "execution_count": 9,
   "metadata": {
    "collapsed": false
   },
   "outputs": [
    {
     "data": {
      "image/png": "[encoded data removed]",
      "text/plain": [
       "<matplotlib.figure.Figure at 0x777eb70>"
      ]
     },
     "metadata": {},
     "output_type": "display_data"
    }
   ],
   "source": [
    "%matplotlib inline\n",
    "import matplotlib.pyplot as plt\n",
    "plt.hist(incomes, 50)\n",
    "plt.show()"
   ]
  },
  {
   "cell_type": "markdown",
   "metadata": {},
   "source": [
    "Now compute the median - since we have a nice, even distribution it too should be close to 27,000:"
   ]
  },
  {
   "cell_type": "code",
   "execution_count": 10,
   "metadata": {
    "collapsed": false
   },
   "outputs": [
    {
     "data": {
      "text/plain": [
       "27021.267566298498"
      ]
     },
     "execution_count": 10,
     "metadata": {},
     "output_type": "execute_result"
    }
   ],
   "source": [
    "np.median(incomes)"
   ]
  },
  {
   "cell_type": "markdown",
   "metadata": {},
   "source": [
    "Now we'll add Donald Trump into the mix. Darn income inequality!"
   ]
  },
  {
   "cell_type": "code",
   "execution_count": 11,
   "metadata": {
    "collapsed": false
   },
   "outputs": [],
   "source": [
    "incomes = np.append(incomes, [1000000000])"
   ]
  },
  {
   "cell_type": "markdown",
   "metadata": {},
   "source": [
    "The median won't change much, but the mean does:"
   ]
  },
  {
   "cell_type": "code",
   "execution_count": 12,
   "metadata": {
    "collapsed": false
   },
   "outputs": [
    {
     "data": {
      "text/plain": [
       "27021.429292420838"
      ]
     },
     "execution_count": 12,
     "metadata": {},
     "output_type": "execute_result"
    }
   ],
   "source": [
    "np.median(incomes)"
   ]
  },
  {
   "cell_type": "code",
   "execution_count": 14,
   "metadata": {
    "collapsed": false
   },
   "outputs": [
    {
     "data": {
      "text/plain": [
       "126909.89672642166"
      ]
     },
     "execution_count": 14,
     "metadata": {},
     "output_type": "execute_result"
    }
   ],
   "source": [
    "np.mean(incomes)"
   ]
  },
  {
   "cell_type": "markdown",
   "metadata": {},
   "source": [
    "## Mode"
   ]
  },
  {
   "cell_type": "markdown",
   "metadata": {},
   "source": [
    "Next, let's generate some fake age data for 500 people:"
   ]
  },
  {
   "cell_type": "code",
   "execution_count": 21,
   "metadata": {
    "collapsed": false
   },
   "outputs": [
    {
     "data": {
      "text/plain": [
       "array([21, 47, 85, 30, 59, 77, 40, 63, 84, 48, 69, 26, 45, 21, 39, 70, 23,\n",
       "       29, 88, 31, 22, 80, 24, 74, 72, 25, 57, 66, 20, 58, 70, 41, 21, 39,\n",
       "       77, 40, 32, 23, 74, 24, 64, 86, 59, 59, 87, 71, 61, 80, 22, 22, 86,\n",
       "       27, 18, 46, 29, 19, 62, 68, 19, 42, 57, 81, 32, 70, 36, 50, 60, 31,\n",
       "       51, 21, 64, 55, 54, 34, 86, 71, 36, 54, 82, 18, 77, 71, 75, 55, 39,\n",
       "       20, 18, 63, 77, 86, 73, 53, 36, 45, 79, 65, 74, 82, 83, 68, 63, 46,\n",
       "       61, 41, 30, 84, 73, 68, 18, 84, 51, 40, 89, 36, 72, 74, 46, 56, 75,\n",
       "       87, 58, 87, 83, 52, 41, 56, 35, 63, 74, 27, 26, 81, 87, 60, 53, 75,\n",
       "       54, 46, 84, 28, 33, 66, 41, 71, 27, 53, 21, 33, 86, 48, 18, 55, 22,\n",
       "       20, 69, 68, 79, 87, 50, 39, 38, 80, 45, 63, 42, 24, 46, 85, 31, 82,\n",
       "       24, 51, 59, 47, 78, 53, 30, 79, 51, 81, 66, 64, 29, 49, 71, 45, 18,\n",
       "       57, 84, 23, 28, 78, 80, 73, 40, 74, 19, 49, 85, 47, 19, 20, 88, 83,\n",
       "       70, 60, 89, 29, 47, 55, 74, 69, 33, 58, 45, 72, 55, 18, 38, 49, 31,\n",
       "       51, 43, 50, 61, 64, 58, 71, 85, 87, 34, 64, 76, 61, 50, 69, 64, 21,\n",
       "       68, 44, 53, 42, 67, 56, 38, 69, 27, 18, 45, 33, 68, 21, 59, 87, 62,\n",
       "       87, 63, 47, 59, 48, 28, 79, 57, 59, 26, 73, 42, 83, 78, 56, 72, 70,\n",
       "       88, 27, 63, 18, 49, 42, 28, 71, 29, 55, 58, 53, 50, 65, 25, 61, 54,\n",
       "       83, 70, 51, 43, 46, 49, 87, 89, 26, 54, 74, 72, 29, 63, 31, 40, 39,\n",
       "       22, 73, 68, 64, 58, 59, 50, 79, 42, 38, 43, 71, 32, 64, 29, 81, 35,\n",
       "       39, 72, 24, 61, 40, 39, 18, 39, 57, 31, 76, 77, 41, 24, 23, 64, 32,\n",
       "       70, 59, 41, 42, 85, 19, 38, 84, 61, 40, 83, 73, 67, 74, 76, 76, 31,\n",
       "       55, 84, 39, 50, 66, 63, 18, 44, 78, 78, 62, 50, 84, 40, 23, 26, 31,\n",
       "       35, 21, 55, 59, 23, 86, 22, 86, 60, 71, 40, 42, 71, 76, 48, 44, 18,\n",
       "       38, 41, 81, 25, 39, 31, 45, 64, 29, 41, 31, 26, 51, 54, 24, 46, 28,\n",
       "       24, 79, 81, 32, 70, 63, 79, 40, 47, 37, 24, 80, 40, 51, 39, 44, 87,\n",
       "       59, 49, 55, 86, 38, 42, 43, 38, 20, 34, 64, 84, 88, 52, 20, 86, 65,\n",
       "       23, 68, 25, 24, 35, 60, 48, 27, 89, 36, 35, 58, 20, 44, 40, 29, 65,\n",
       "       40, 52, 28, 46, 40, 77, 18, 75, 68, 27, 70, 49, 81, 30, 87, 73, 69,\n",
       "       88, 63, 75, 55, 21, 39, 33, 20, 41, 56, 75, 84, 77, 37, 48, 49, 23,\n",
       "       71, 85, 66, 23, 38, 89, 88])"
      ]
     },
     "execution_count": 21,
     "metadata": {},
     "output_type": "execute_result"
    }
   ],
   "source": [
    "ages = np.random.randint(18, high=90, size=500)\n",
    "ages"
   ]
  },
  {
   "cell_type": "code",
   "execution_count": 22,
   "metadata": {
    "collapsed": false
   },
   "outputs": [
    {
     "data": {
      "text/plain": [
       "ModeResult(mode=array([40]), count=array([14]))"
      ]
     },
     "execution_count": 22,
     "metadata": {},
     "output_type": "execute_result"
    }
   ],
   "source": [
    "from scipy import stats\n",
    "stats.mode(ages)"
   ]
  },
  {
   "cell_type": "code",
   "execution_count": null,
   "metadata": {
    "collapsed": false
   },
   "outputs": [],
   "source": []
  }
 ],
 "metadata": {
  "kernelspec": {
   "display_name": "Python 2",
   "language": "python",
   "name": "python2"
  },
  "language_info": {
   "codemirror_mode": {
    "name": "ipython",
    "version": 2
   },
   "file_extension": ".py",
   "mimetype": "text/x-python",
   "name": "python",
   "nbconvert_exporter": "python",
   "pygments_lexer": "ipython2",
   "version": "2.7.10"
  }
 },
 "nbformat": 4,
 "nbformat_minor": 0
}
